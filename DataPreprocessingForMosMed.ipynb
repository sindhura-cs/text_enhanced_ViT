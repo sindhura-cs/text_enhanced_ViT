{
 "cells": [
  {
   "cell_type": "code",
   "execution_count": 2,
   "metadata": {},
   "outputs": [
    {
     "name": "stdout",
     "output_type": "stream",
     "text": [
      "Selected images copied to: C:/Users/Sahana/Downloads/datasets/MosMedDataPlus/Train_Folder/labelcol\n"
     ]
    }
   ],
   "source": [
    "import pandas as pd\n",
    "import shutil\n",
    "import os\n",
    "\n",
    "# Specify the path to your Excel file and image folder\n",
    "excel_file_path = 'C:/Users/Sahana/Downloads/datasets/MosMedDataPlus/Train_Folder/Train_text.xlsx'\n",
    "image_folder_path = 'C:/Users/Sahana/Downloads/MosMedData/MosMedData_images/masks'\n",
    "\n",
    "# Read the Excel file into a DataFrame\n",
    "df = pd.read_excel(excel_file_path)\n",
    "\n",
    "# Create a new folder to store the selected images\n",
    "output_folder_path = 'C:/Users/Sahana/Downloads/datasets/MosMedDataPlus/Train_Folder/labelcol'\n",
    "os.makedirs(output_folder_path, exist_ok=True)\n",
    "\n",
    "# Loop through each row in the DataFrame and copy the corresponding image to the new folder\n",
    "for index, row in df.iterrows():\n",
    "    image_name = row['Image']  # Assuming 'image_name' is the column with image names\n",
    "\n",
    "    # Construct the source and destination paths\n",
    "    source_path = os.path.join(image_folder_path, image_name)\n",
    "    destination_path = os.path.join(output_folder_path, image_name)\n",
    "\n",
    "    # Check if the source image exists before copying\n",
    "    if os.path.exists(source_path):\n",
    "        # Copy the image to the new folder\n",
    "        shutil.copyfile(source_path, destination_path)\n",
    "    else:\n",
    "        print(f\"Warning: Image '{image_name}' not found in the source folder.\")\n",
    "\n",
    "print(f\"Selected images copied to: {output_folder_path}\")\n"
   ]
  },
  {
   "cell_type": "code",
   "execution_count": 3,
   "metadata": {},
   "outputs": [
    {
     "name": "stdout",
     "output_type": "stream",
     "text": [
      "Selected images copied to: C:/Users/Sahana/Downloads/datasets/MosMedDataPlus/Train_Folder/img\n"
     ]
    }
   ],
   "source": [
    "\n",
    "# Specify the path to your Excel file and image folder\n",
    "excel_file_path = 'C:/Users/Sahana/Downloads/datasets/MosMedDataPlus/Train_Folder/Train_text.xlsx'\n",
    "image_folder_path = 'C:/Users/Sahana/Downloads/MosMedData/MosMedData_images/frames'\n",
    "\n",
    "# Read the Excel file into a DataFrame\n",
    "df = pd.read_excel(excel_file_path)\n",
    "\n",
    "# Create a new folder to store the selected images\n",
    "output_folder_path = 'C:/Users/Sahana/Downloads/datasets/MosMedDataPlus/Train_Folder/img'\n",
    "os.makedirs(output_folder_path, exist_ok=True)\n",
    "\n",
    "# Loop through each row in the DataFrame and copy the corresponding image to the new folder\n",
    "for index, row in df.iterrows():\n",
    "    image_name = row['Image']  # Assuming 'image_name' is the column with image names\n",
    "\n",
    "    # Construct the source and destination paths\n",
    "    source_path = os.path.join(image_folder_path, image_name)\n",
    "    destination_path = os.path.join(output_folder_path, image_name)\n",
    "\n",
    "    # Check if the source image exists before copying\n",
    "    if os.path.exists(source_path):\n",
    "        # Copy the image to the new folder\n",
    "        shutil.copyfile(source_path, destination_path)\n",
    "    else:\n",
    "        print(f\"Warning: Image '{image_name}' not found in the source folder.\")\n",
    "\n",
    "print(f\"Selected images copied to: {output_folder_path}\")\n"
   ]
  },
  {
   "cell_type": "code",
   "execution_count": 8,
   "metadata": {},
   "outputs": [
    {
     "name": "stdout",
     "output_type": "stream",
     "text": [
      "Selected images copied to: C:/Users/Sahana/Downloads/datasets/MosMedDataPlus/Val_Folder/labelcol\n"
     ]
    }
   ],
   "source": [
    "import pandas as pd\n",
    "import shutil\n",
    "import os\n",
    "\n",
    "# Specify the path to your Excel file and image folder\n",
    "\n",
    "excel_file_path = 'C:/Users/Sahana/Downloads/datasets/MosMedDataPlus/Val_Folder/Val_text.xlsx'\n",
    "image_folder_path = 'C:/Users/Sahana/Downloads/MosMedData/MosMedData_images/masks'\n",
    "\n",
    "# Read the Excel file into a DataFrame\n",
    "df = pd.read_excel(excel_file_path)\n",
    "\n",
    "# Create a new folder to store the selected images\n",
    "output_folder_path = 'C:/Users/Sahana/Downloads/datasets/MosMedDataPlus/Val_Folder/labelcol'\n",
    "os.makedirs(output_folder_path, exist_ok=True)\n",
    "\n",
    "# Loop through each row in the DataFrame and copy the corresponding image to the new folder\n",
    "for index, row in df.iterrows():\n",
    "    image_name = row['Image']  # Assuming 'image_name' is the column with image names\n",
    "\n",
    "    # Construct the source and destination paths\n",
    "    source_path = os.path.join(image_folder_path, image_name)\n",
    "    destination_path = os.path.join(output_folder_path, image_name)\n",
    "\n",
    "    # Check if the source image exists before copying\n",
    "    if os.path.exists(source_path):\n",
    "        # Copy the image to the new folder\n",
    "        shutil.copyfile(source_path, destination_path)\n",
    "    else:\n",
    "        print(f\"Warning: Image '{image_name}' not found in the source folder.\")\n",
    "\n",
    "print(f\"Selected images copied to: {output_folder_path}\")\n"
   ]
  },
  {
   "cell_type": "code",
   "execution_count": 9,
   "metadata": {},
   "outputs": [
    {
     "name": "stdout",
     "output_type": "stream",
     "text": [
      "Selected images copied to: C:/Users/Sahana/Downloads/datasets/MosMedDataPlus/Val_Folder/img\n"
     ]
    }
   ],
   "source": [
    "\n",
    "# Specify the path to your Excel file and image folder\n",
    "excel_file_path = 'C:/Users/Sahana/Downloads/datasets/MosMedDataPlus/Val_Folder/Val_text.xlsx'\n",
    "image_folder_path = 'C:/Users/Sahana/Downloads/MosMedData/MosMedData_images/frames'\n",
    "\n",
    "# Read the Excel file into a DataFrame\n",
    "df = pd.read_excel(excel_file_path)\n",
    "\n",
    "# Create a new folder to store the selected images\n",
    "output_folder_path = 'C:/Users/Sahana/Downloads/datasets/MosMedDataPlus/Val_Folder/img'\n",
    "os.makedirs(output_folder_path, exist_ok=True)\n",
    "\n",
    "# Loop through each row in the DataFrame and copy the corresponding image to the new folder\n",
    "for index, row in df.iterrows():\n",
    "    image_name = row['Image']  # Assuming 'image_name' is the column with image names\n",
    "\n",
    "    # Construct the source and destination paths\n",
    "    source_path = os.path.join(image_folder_path, image_name)\n",
    "    destination_path = os.path.join(output_folder_path, image_name)\n",
    "\n",
    "    # Check if the source image exists before copying\n",
    "    if os.path.exists(source_path):\n",
    "        # Copy the image to the new folder\n",
    "        shutil.copyfile(source_path, destination_path)\n",
    "    else:\n",
    "        print(f\"Warning: Image '{image_name}' not found in the source folder.\")\n",
    "\n",
    "print(f\"Selected images copied to: {output_folder_path}\")\n"
   ]
  },
  {
   "cell_type": "code",
   "execution_count": 10,
   "metadata": {},
   "outputs": [
    {
     "name": "stdout",
     "output_type": "stream",
     "text": [
      "Selected images copied to: C:/Users/Sahana/Downloads/datasets/MosMedDataPlus/Test_Folder/labelcol\n"
     ]
    }
   ],
   "source": [
    "import pandas as pd\n",
    "import shutil\n",
    "import os\n",
    "\n",
    "# Specify the path to your Excel file and image folder\n",
    "\n",
    "excel_file_path = 'C:/Users/Sahana/Downloads/datasets/MosMedDataPlus/Test_Folder/Test_text.xlsx'\n",
    "image_folder_path = 'C:/Users/Sahana/Downloads/MosMedData/MosMedData_images/masks'\n",
    "\n",
    "# Read the Excel file into a DataFrame\n",
    "df = pd.read_excel(excel_file_path)\n",
    "\n",
    "# Create a new folder to store the selected images\n",
    "output_folder_path = 'C:/Users/Sahana/Downloads/datasets/MosMedDataPlus/Test_Folder/labelcol'\n",
    "os.makedirs(output_folder_path, exist_ok=True)\n",
    "\n",
    "# Loop through each row in the DataFrame and copy the corresponding image to the new folder\n",
    "for index, row in df.iterrows():\n",
    "    image_name = row['Image']  # Assuming 'image_name' is the column with image names\n",
    "\n",
    "    # Construct the source and destination paths\n",
    "    source_path = os.path.join(image_folder_path, image_name)\n",
    "    destination_path = os.path.join(output_folder_path, image_name)\n",
    "\n",
    "    # Check if the source image exists before copying\n",
    "    if os.path.exists(source_path):\n",
    "        # Copy the image to the new folder\n",
    "        shutil.copyfile(source_path, destination_path)\n",
    "    else:\n",
    "        print(f\"Warning: Image '{image_name}' not found in the source folder.\")\n",
    "\n",
    "print(f\"Selected images copied to: {output_folder_path}\")\n"
   ]
  },
  {
   "cell_type": "code",
   "execution_count": 11,
   "metadata": {},
   "outputs": [
    {
     "name": "stdout",
     "output_type": "stream",
     "text": [
      "Selected images copied to: C:/Users/Sahana/Downloads/datasets/MosMedDataPlus/Test_Folder/img\n"
     ]
    }
   ],
   "source": [
    "import pandas as pd\n",
    "import shutil\n",
    "import os\n",
    "\n",
    "# Specify the path to your Excel file and image folder\n",
    "\n",
    "excel_file_path = 'C:/Users/Sahana/Downloads/datasets/MosMedDataPlus/Test_Folder/Test_text.xlsx'\n",
    "image_folder_path = 'C:/Users/Sahana/Downloads/MosMedData/MosMedData_images/frames'\n",
    "\n",
    "# Read the Excel file into a DataFrame\n",
    "df = pd.read_excel(excel_file_path)\n",
    "\n",
    "# Create a new folder to store the selected images\n",
    "output_folder_path = 'C:/Users/Sahana/Downloads/datasets/MosMedDataPlus/Test_Folder/img'\n",
    "os.makedirs(output_folder_path, exist_ok=True)\n",
    "\n",
    "# Loop through each row in the DataFrame and copy the corresponding image to the new folder\n",
    "for index, row in df.iterrows():\n",
    "    image_name = row['Image']  # Assuming 'image_name' is the column with image names\n",
    "\n",
    "    # Construct the source and destination paths\n",
    "    source_path = os.path.join(image_folder_path, image_name)\n",
    "    destination_path = os.path.join(output_folder_path, image_name)\n",
    "\n",
    "    # Check if the source image exists before copying\n",
    "    if os.path.exists(source_path):\n",
    "        # Copy the image to the new folder\n",
    "        shutil.copyfile(source_path, destination_path)\n",
    "    else:\n",
    "        print(f\"Warning: Image '{image_name}' not found in the source folder.\")\n",
    "\n",
    "print(f\"Selected images copied to: {output_folder_path}\")\n"
   ]
  },
  {
   "cell_type": "code",
   "execution_count": null,
   "metadata": {},
   "outputs": [],
   "source": []
  }
 ],
 "metadata": {
  "kernelspec": {
   "display_name": "Python 3",
   "language": "python",
   "name": "python3"
  },
  "language_info": {
   "codemirror_mode": {
    "name": "ipython",
    "version": 3
   },
   "file_extension": ".py",
   "mimetype": "text/x-python",
   "name": "python",
   "nbconvert_exporter": "python",
   "pygments_lexer": "ipython3",
   "version": "3.7.6"
  }
 },
 "nbformat": 4,
 "nbformat_minor": 4
}
