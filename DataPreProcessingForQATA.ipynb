{
 "cells": [
  {
   "cell_type": "code",
   "execution_count": 91,
   "metadata": {},
   "outputs": [],
   "source": [
    "import pandas as pd"
   ]
  },
  {
   "cell_type": "code",
   "execution_count": 92,
   "metadata": {},
   "outputs": [],
   "source": [
    "train_ID = pd.read_excel(\"C:/Users/Sahana/Downloads/Train_ID.xlsx\")\n",
    "val_ID = pd.read_excel(\"C:/Users/Sahana/Downloads/Val_ID.xlsx\")\n",
    "train_Val_annotation = pd.read_excel(\"C:/Users/Sahana/Downloads/Train_text_for_Covid19.xlsx\")\n"
   ]
  },
  {
   "cell_type": "code",
   "execution_count": 93,
   "metadata": {},
   "outputs": [
    {
     "data": {
      "text/html": [
       "<div>\n",
       "<style scoped>\n",
       "    .dataframe tbody tr th:only-of-type {\n",
       "        vertical-align: middle;\n",
       "    }\n",
       "\n",
       "    .dataframe tbody tr th {\n",
       "        vertical-align: top;\n",
       "    }\n",
       "\n",
       "    .dataframe thead th {\n",
       "        text-align: right;\n",
       "    }\n",
       "</style>\n",
       "<table border=\"1\" class=\"dataframe\">\n",
       "  <thead>\n",
       "    <tr style=\"text-align: right;\">\n",
       "      <th></th>\n",
       "      <th>Image</th>\n",
       "    </tr>\n",
       "  </thead>\n",
       "  <tbody>\n",
       "    <tr>\n",
       "      <th>0</th>\n",
       "      <td>mask_covid_1.png</td>\n",
       "    </tr>\n",
       "    <tr>\n",
       "      <th>1</th>\n",
       "      <td>mask_covid_100.png</td>\n",
       "    </tr>\n",
       "    <tr>\n",
       "      <th>2</th>\n",
       "      <td>mask_covid_1000.png</td>\n",
       "    </tr>\n",
       "    <tr>\n",
       "      <th>3</th>\n",
       "      <td>mask_covid_1001.png</td>\n",
       "    </tr>\n",
       "    <tr>\n",
       "      <th>4</th>\n",
       "      <td>mask_covid_1007.png</td>\n",
       "    </tr>\n",
       "  </tbody>\n",
       "</table>\n",
       "</div>"
      ],
      "text/plain": [
       "                 Image\n",
       "0     mask_covid_1.png\n",
       "1   mask_covid_100.png\n",
       "2  mask_covid_1000.png\n",
       "3  mask_covid_1001.png\n",
       "4  mask_covid_1007.png"
      ]
     },
     "execution_count": 93,
     "metadata": {},
     "output_type": "execute_result"
    }
   ],
   "source": [
    "train_ID.head(5)"
   ]
  },
  {
   "cell_type": "code",
   "execution_count": 94,
   "metadata": {},
   "outputs": [
    {
     "data": {
      "text/html": [
       "<div>\n",
       "<style scoped>\n",
       "    .dataframe tbody tr th:only-of-type {\n",
       "        vertical-align: middle;\n",
       "    }\n",
       "\n",
       "    .dataframe tbody tr th {\n",
       "        vertical-align: top;\n",
       "    }\n",
       "\n",
       "    .dataframe thead th {\n",
       "        text-align: right;\n",
       "    }\n",
       "</style>\n",
       "<table border=\"1\" class=\"dataframe\">\n",
       "  <thead>\n",
       "    <tr style=\"text-align: right;\">\n",
       "      <th></th>\n",
       "      <th>Image</th>\n",
       "      <th>Description</th>\n",
       "    </tr>\n",
       "  </thead>\n",
       "  <tbody>\n",
       "    <tr>\n",
       "      <th>0</th>\n",
       "      <td>mask_covid_1.png</td>\n",
       "      <td>Bilateral pulmonary infection, two infected ar...</td>\n",
       "    </tr>\n",
       "    <tr>\n",
       "      <th>1</th>\n",
       "      <td>mask_covid_100.png</td>\n",
       "      <td>Bilateral pulmonary infection, two infected ar...</td>\n",
       "    </tr>\n",
       "    <tr>\n",
       "      <th>2</th>\n",
       "      <td>mask_covid_1000.png</td>\n",
       "      <td>Bilateral pulmonary infection, two infected ar...</td>\n",
       "    </tr>\n",
       "    <tr>\n",
       "      <th>3</th>\n",
       "      <td>mask_covid_1001.png</td>\n",
       "      <td>Unilateral pulmonary infection, one infected a...</td>\n",
       "    </tr>\n",
       "    <tr>\n",
       "      <th>4</th>\n",
       "      <td>mask_covid_1002.png</td>\n",
       "      <td>Bilateral pulmonary infection, two infected ar...</td>\n",
       "    </tr>\n",
       "  </tbody>\n",
       "</table>\n",
       "</div>"
      ],
      "text/plain": [
       "                 Image                                        Description\n",
       "0     mask_covid_1.png  Bilateral pulmonary infection, two infected ar...\n",
       "1   mask_covid_100.png  Bilateral pulmonary infection, two infected ar...\n",
       "2  mask_covid_1000.png  Bilateral pulmonary infection, two infected ar...\n",
       "3  mask_covid_1001.png  Unilateral pulmonary infection, one infected a...\n",
       "4  mask_covid_1002.png  Bilateral pulmonary infection, two infected ar..."
      ]
     },
     "execution_count": 94,
     "metadata": {},
     "output_type": "execute_result"
    }
   ],
   "source": [
    "train_Val_annotation.head(5)"
   ]
  },
  {
   "cell_type": "code",
   "execution_count": 97,
   "metadata": {},
   "outputs": [
    {
     "name": "stdout",
     "output_type": "stream",
     "text": [
      "                                                  Image  \\\n",
      "0                                      mask_covid_1.png   \n",
      "1                                    mask_covid_100.png   \n",
      "2                                   mask_covid_1000.png   \n",
      "3                                   mask_covid_1001.png   \n",
      "4                                   mask_covid_1007.png   \n",
      "...                                                 ...   \n",
      "5711  mask_sub-S12814_ses-E27015_run-1_bp-chest_vp-a...   \n",
      "5712  mask_sub-S12825_ses-E27081_run-1_bp-chest_vp-p...   \n",
      "5713  mask_sub-S12832_ses-E27129_run-1_bp-chest_vp-a...   \n",
      "5714  mask_sub-S12843_ses-E27159_run-1_bp-chest_vp-a...   \n",
      "5715  mask_sub-S12844_ses-E27166_run-1_bp-chest_vp-a...   \n",
      "\n",
      "                                            Description  \n",
      "0     Bilateral pulmonary infection, two infected ar...  \n",
      "1     Bilateral pulmonary infection, two infected ar...  \n",
      "2     Bilateral pulmonary infection, two infected ar...  \n",
      "3     Unilateral pulmonary infection, one infected a...  \n",
      "4     Unilateral pulmonary infection, one infected a...  \n",
      "...                                                 ...  \n",
      "5711  Bilateral pulmonary infection, three infected ...  \n",
      "5712  Bilateral pulmonary infection, two infected ar...  \n",
      "5713  Bilateral pulmonary infection, two infected ar...  \n",
      "5714  Unilateral pulmonary infection, one infected a...  \n",
      "5715  Unilateral pulmonary infection, one infected a...  \n",
      "\n",
      "[5716 rows x 2 columns]\n"
     ]
    }
   ],
   "source": [
    "merged_df_train = pd.merge(train_ID, train_Val_annotation, on='Image', how='inner')\n",
    "merged_df_val = pd.merge(val_ID, train_Val_annotation, on='Image', how='inner')\n",
    "\n",
    "# Specify the path for the output CSV file\n",
    "output_path_train = 'C:/Users/Sahana/Downloads/datasets/QaTa-Covid19/Train_folder/Train_text.xlsx'\n",
    "output_path_val = 'C:/Users/Sahana/Downloads/datasets/QaTa-Covid19/Val_folder/Val_text.xlsx'\n",
    "\n",
    "\n",
    "# Write the merged DataFrame to a new CSV file\n",
    "merged_df_train.to_excel(output_path_test, index=False)\n",
    "merged_df_val.to_excel(output_path_val, index=False)\n",
    "# Display the merged DataFrame\n",
    "print(merged_df_train)"
   ]
  },
  {
   "cell_type": "code",
   "execution_count": 98,
   "metadata": {},
   "outputs": [
    {
     "name": "stdout",
     "output_type": "stream",
     "text": [
      "                                                  Image  \\\n",
      "0                                   mask_covid_1002.png   \n",
      "1                                   mask_covid_1008.png   \n",
      "2                                    mask_covid_101.png   \n",
      "3                                   mask_covid_1016.png   \n",
      "4                                   mask_covid_1028.png   \n",
      "...                                                 ...   \n",
      "1424  mask_sub-S12730_ses-E26627_run-1_bp-chest_vp-a...   \n",
      "1425  mask_sub-S12744_ses-E26672_run-1_bp-chest_vp-a...   \n",
      "1426  mask_sub-S12746_ses-E26677_run-1_bp-chest_vp-p...   \n",
      "1427  mask_sub-S12761_ses-E27007_run-1_bp-chest_vp-p...   \n",
      "1428  mask_sub-S12808_ses-E26989_run-1_bp-chest_vp-p...   \n",
      "\n",
      "                                            Description  \n",
      "0     Bilateral pulmonary infection, two infected ar...  \n",
      "1     Bilateral pulmonary infection, three infected ...  \n",
      "2     Unilateral pulmonary infection, one infected a...  \n",
      "3     Bilateral pulmonary infection, two infected ar...  \n",
      "4     Bilateral pulmonary infection, two infected ar...  \n",
      "...                                                 ...  \n",
      "1424  Bilateral pulmonary infection, two infected ar...  \n",
      "1425  Bilateral pulmonary infection, two infected ar...  \n",
      "1426  Bilateral pulmonary infection, three infected ...  \n",
      "1427  Unilateral pulmonary infection, one infected a...  \n",
      "1428  Bilateral pulmonary infection, two infected ar...  \n",
      "\n",
      "[1429 rows x 2 columns]\n"
     ]
    }
   ],
   "source": [
    "print(merged_df_val)"
   ]
  },
  {
   "cell_type": "code",
   "execution_count": 99,
   "metadata": {},
   "outputs": [
    {
     "data": {
      "text/html": [
       "<div>\n",
       "<style scoped>\n",
       "    .dataframe tbody tr th:only-of-type {\n",
       "        vertical-align: middle;\n",
       "    }\n",
       "\n",
       "    .dataframe tbody tr th {\n",
       "        vertical-align: top;\n",
       "    }\n",
       "\n",
       "    .dataframe thead th {\n",
       "        text-align: right;\n",
       "    }\n",
       "</style>\n",
       "<table border=\"1\" class=\"dataframe\">\n",
       "  <thead>\n",
       "    <tr style=\"text-align: right;\">\n",
       "      <th></th>\n",
       "      <th>Image</th>\n",
       "      <th>Description</th>\n",
       "    </tr>\n",
       "  </thead>\n",
       "  <tbody>\n",
       "    <tr>\n",
       "      <th>count</th>\n",
       "      <td>1429</td>\n",
       "      <td>1429</td>\n",
       "    </tr>\n",
       "    <tr>\n",
       "      <th>unique</th>\n",
       "      <td>1429</td>\n",
       "      <td>128</td>\n",
       "    </tr>\n",
       "    <tr>\n",
       "      <th>top</th>\n",
       "      <td>mask_sub-S10405_ses-E19049_run-1_bp-chest_vp-a...</td>\n",
       "      <td>Bilateral pulmonary infection, two infected ar...</td>\n",
       "    </tr>\n",
       "    <tr>\n",
       "      <th>freq</th>\n",
       "      <td>1</td>\n",
       "      <td>394</td>\n",
       "    </tr>\n",
       "  </tbody>\n",
       "</table>\n",
       "</div>"
      ],
      "text/plain": [
       "                                                    Image  \\\n",
       "count                                                1429   \n",
       "unique                                               1429   \n",
       "top     mask_sub-S10405_ses-E19049_run-1_bp-chest_vp-a...   \n",
       "freq                                                    1   \n",
       "\n",
       "                                              Description  \n",
       "count                                                1429  \n",
       "unique                                                128  \n",
       "top     Bilateral pulmonary infection, two infected ar...  \n",
       "freq                                                  394  "
      ]
     },
     "execution_count": 99,
     "metadata": {},
     "output_type": "execute_result"
    }
   ],
   "source": [
    "merged_df_val.describe()"
   ]
  },
  {
   "cell_type": "code",
   "execution_count": 100,
   "metadata": {},
   "outputs": [
    {
     "data": {
      "text/html": [
       "<div>\n",
       "<style scoped>\n",
       "    .dataframe tbody tr th:only-of-type {\n",
       "        vertical-align: middle;\n",
       "    }\n",
       "\n",
       "    .dataframe tbody tr th {\n",
       "        vertical-align: top;\n",
       "    }\n",
       "\n",
       "    .dataframe thead th {\n",
       "        text-align: right;\n",
       "    }\n",
       "</style>\n",
       "<table border=\"1\" class=\"dataframe\">\n",
       "  <thead>\n",
       "    <tr style=\"text-align: right;\">\n",
       "      <th></th>\n",
       "      <th>Image</th>\n",
       "      <th>Description</th>\n",
       "    </tr>\n",
       "  </thead>\n",
       "  <tbody>\n",
       "    <tr>\n",
       "      <th>count</th>\n",
       "      <td>5716</td>\n",
       "      <td>5716</td>\n",
       "    </tr>\n",
       "    <tr>\n",
       "      <th>unique</th>\n",
       "      <td>5716</td>\n",
       "      <td>273</td>\n",
       "    </tr>\n",
       "    <tr>\n",
       "      <th>top</th>\n",
       "      <td>mask_sub-S12327_ses-E24565_run-1_bp-chest_vp-a...</td>\n",
       "      <td>Bilateral pulmonary infection, two infected ar...</td>\n",
       "    </tr>\n",
       "    <tr>\n",
       "      <th>freq</th>\n",
       "      <td>1</td>\n",
       "      <td>1587</td>\n",
       "    </tr>\n",
       "  </tbody>\n",
       "</table>\n",
       "</div>"
      ],
      "text/plain": [
       "                                                    Image  \\\n",
       "count                                                5716   \n",
       "unique                                               5716   \n",
       "top     mask_sub-S12327_ses-E24565_run-1_bp-chest_vp-a...   \n",
       "freq                                                    1   \n",
       "\n",
       "                                              Description  \n",
       "count                                                5716  \n",
       "unique                                                273  \n",
       "top     Bilateral pulmonary infection, two infected ar...  \n",
       "freq                                                 1587  "
      ]
     },
     "execution_count": 100,
     "metadata": {},
     "output_type": "execute_result"
    }
   ],
   "source": [
    "merged_df_test.describe()"
   ]
  },
  {
   "cell_type": "code",
   "execution_count": 101,
   "metadata": {},
   "outputs": [
    {
     "name": "stdout",
     "output_type": "stream",
     "text": [
      "Selected images copied to: C:/Users/Sahana/Downloads/datasets/QaTa-Covid19/Train_Folder/labelcol\n"
     ]
    }
   ],
   "source": [
    "import pandas as pd\n",
    "import shutil\n",
    "import os\n",
    "\n",
    "# Specify the path to your Excel file and image folder\n",
    "excel_file_path = 'C:/Users/Sahana/Downloads/merged_data_train.xlsx'\n",
    "image_folder_path = 'C:/Users/Sahana/Downloads/QaTa-COV19/QaTa-COV19-v2/Train Set/Ground-truths'\n",
    "\n",
    "# Read the Excel file into a DataFrame\n",
    "df = pd.read_excel(excel_file_path)\n",
    "\n",
    "# Create a new folder to store the selected images\n",
    "output_folder_path = 'C:/Users/Sahana/Downloads/datasets/QaTa-Covid19/Train_Folder/labelcol'\n",
    "os.makedirs(output_folder_path, exist_ok=True)\n",
    "\n",
    "# Loop through each row in the DataFrame and copy the corresponding image to the new folder\n",
    "for index, row in df.iterrows():\n",
    "    image_name = row['Image']  # Assuming 'image_name' is the column with image names\n",
    "\n",
    "    # Construct the source and destination paths\n",
    "    source_path = os.path.join(image_folder_path, image_name)\n",
    "    destination_path = os.path.join(output_folder_path, image_name)\n",
    "\n",
    "    # Check if the source image exists before copying\n",
    "    if os.path.exists(source_path):\n",
    "        # Copy the image to the new folder\n",
    "        shutil.copyfile(source_path, destination_path)\n",
    "    else:\n",
    "        print(f\"Warning: Image '{image_name}' not found in the source folder.\")\n",
    "\n",
    "print(f\"Selected images copied to: {output_folder_path}\")\n"
   ]
  },
  {
   "cell_type": "code",
   "execution_count": 102,
   "metadata": {},
   "outputs": [
    {
     "name": "stdout",
     "output_type": "stream",
     "text": [
      "Selected images copied to: C:/Users/Sahana/Downloads/datasets/QaTa-Covid19/Train_Folder/img\n"
     ]
    }
   ],
   "source": [
    "import pandas as pd\n",
    "import shutil\n",
    "import os\n",
    "import re\n",
    "\n",
    "\n",
    "\n",
    "# Specify the path to your Excel file and image folder\n",
    "excel_file_path = 'C:/Users/Sahana/Downloads/merged_data_train.xlsx'\n",
    "image_folder_path = 'C:/Users/Sahana/Downloads/QaTa-COV19/QaTa-COV19-v2/Train Set/Images'\n",
    "\n",
    "# Read the Excel file into a DataFrame\n",
    "df = pd.read_excel(excel_file_path)\n",
    "\n",
    "# Create a new folder to store the selected images\n",
    "output_folder_path = 'C:/Users/Sahana/Downloads/datasets/QaTa-Covid19/Train_Folder/img'\n",
    "os.makedirs(output_folder_path, exist_ok=True)\n",
    "\n",
    "# Loop through each row in the DataFrame and copy the corresponding image to the new folder\n",
    "for index, row in df.iterrows():\n",
    "    image_name = row['Image']  # Assuming 'image_name' is the column with image names\n",
    "    new_name = image_name[5:]\n",
    "    # Construct the source and destination paths\n",
    "    source_path = os.path.join(image_folder_path, new_name)\n",
    "    destination_path = os.path.join(output_folder_path, new_name)\n",
    "\n",
    "    # Check if the source image exists before copying\n",
    "    if os.path.exists(source_path):\n",
    "        # Copy the image to the new folder\n",
    "        shutil.copyfile(source_path, destination_path)\n",
    "    else:\n",
    "        print(f\"Warning: Image '{new_name}' not found in the source folder.\")\n",
    "\n",
    "print(f\"Selected images copied to: {output_folder_path}\")\n"
   ]
  },
  {
   "cell_type": "code",
   "execution_count": 103,
   "metadata": {},
   "outputs": [
    {
     "name": "stdout",
     "output_type": "stream",
     "text": [
      "Selected images copied to: C:/Users/Sahana/Downloads/datasets/QaTa-Covid19/Val_Folder/labelcol\n"
     ]
    }
   ],
   "source": [
    "import pandas as pd\n",
    "import shutil\n",
    "import os\n",
    "\n",
    "# Specify the path to your Excel file and image folder\n",
    "excel_file_path = 'C:/Users/Sahana/Downloads/merged_data_val.xlsx'\n",
    "image_folder_path = 'C:/Users/Sahana/Downloads/QaTa-COV19/QaTa-COV19-v2/Train Set/Ground-truths'\n",
    "\n",
    "# Read the Excel file into a DataFrame\n",
    "df = pd.read_excel(excel_file_path)\n",
    "\n",
    "# Create a new folder to store the selected images\n",
    "output_folder_path = 'C:/Users/Sahana/Downloads/datasets/QaTa-Covid19/Val_Folder/labelcol'\n",
    "os.makedirs(output_folder_path, exist_ok=True)\n",
    "\n",
    "# Loop through each row in the DataFrame and copy the corresponding image to the new folder\n",
    "for index, row in df.iterrows():\n",
    "    image_name = row['Image']  # Assuming 'image_name' is the column with image names\n",
    "\n",
    "    # Construct the source and destination paths\n",
    "    source_path = os.path.join(image_folder_path, image_name)\n",
    "    destination_path = os.path.join(output_folder_path, image_name)\n",
    "\n",
    "    # Check if the source image exists before copying\n",
    "    if os.path.exists(source_path):\n",
    "        # Copy the image to the new folder\n",
    "        shutil.copyfile(source_path, destination_path)\n",
    "    else:\n",
    "        print(f\"Warning: Image '{image_name}' not found in the source folder.\")\n",
    "\n",
    "print(f\"Selected images copied to: {output_folder_path}\")\n"
   ]
  },
  {
   "cell_type": "code",
   "execution_count": 104,
   "metadata": {},
   "outputs": [
    {
     "name": "stdout",
     "output_type": "stream",
     "text": [
      "Selected images copied to: C:/Users/Sahana/Downloads/datasets/QaTa-Covid19/Val_Folder/img\n"
     ]
    }
   ],
   "source": [
    "import pandas as pd\n",
    "import shutil\n",
    "import os\n",
    "import re\n",
    "\n",
    "\n",
    "\n",
    "# Specify the path to your Excel file and image folder\n",
    "excel_file_path = 'C:/Users/Sahana/Downloads/merged_data_val.xlsx'\n",
    "image_folder_path = 'C:/Users/Sahana/Downloads/QaTa-COV19/QaTa-COV19-v2/Train Set/Images'\n",
    "\n",
    "# Read the Excel file into a DataFrame\n",
    "df = pd.read_excel(excel_file_path)\n",
    "\n",
    "# Create a new folder to store the selected images\n",
    "output_folder_path = 'C:/Users/Sahana/Downloads/datasets/QaTa-Covid19/Val_Folder/img'\n",
    "os.makedirs(output_folder_path, exist_ok=True)\n",
    "\n",
    "# Loop through each row in the DataFrame and copy the corresponding image to the new folder\n",
    "for index, row in df.iterrows():\n",
    "    image_name = row['Image']  # Assuming 'image_name' is the column with image names\n",
    "    new_name = image_name[5:]\n",
    "    # Construct the source and destination paths\n",
    "    source_path = os.path.join(image_folder_path, new_name)\n",
    "    destination_path = os.path.join(output_folder_path, new_name)\n",
    "\n",
    "    # Check if the source image exists before copying\n",
    "    if os.path.exists(source_path):\n",
    "        # Copy the image to the new folder\n",
    "        shutil.copyfile(source_path, destination_path)\n",
    "    else:\n",
    "        print(f\"Warning: Image '{new_name}' not found in the source folder.\")\n",
    "\n",
    "print(f\"Selected images copied to: {output_folder_path}\")\n"
   ]
  },
  {
   "cell_type": "code",
   "execution_count": 105,
   "metadata": {},
   "outputs": [
    {
     "name": "stdout",
     "output_type": "stream",
     "text": [
      "Selected images copied to: C:/Users/Sahana/Downloads/datasets/QaTa-Covid19/Test_Folder/labelcol\n"
     ]
    }
   ],
   "source": [
    "import pandas as pd\n",
    "import shutil\n",
    "import os\n",
    "\n",
    "# Specify the path to your Excel file and image folder\n",
    "excel_file_path = 'C:/Users/Sahana/Downloads/datasets/QaTa-Covid19/Test_Folder/Test_text.xlsx'\n",
    "image_folder_path = 'C:/Users/Sahana/Downloads/QaTa-COV19/QaTa-COV19-v2/Test Set/Ground-truths'\n",
    "\n",
    "# Read the Excel file into a DataFrame\n",
    "df = pd.read_excel(excel_file_path)\n",
    "\n",
    "# Create a new folder to store the selected images\n",
    "output_folder_path = 'C:/Users/Sahana/Downloads/datasets/QaTa-Covid19/Test_Folder/labelcol'\n",
    "os.makedirs(output_folder_path, exist_ok=True)\n",
    "\n",
    "# Loop through each row in the DataFrame and copy the corresponding image to the new folder\n",
    "for index, row in df.iterrows():\n",
    "    image_name = row['Image']  # Assuming 'image_name' is the column with image names\n",
    "\n",
    "    # Construct the source and destination paths\n",
    "    source_path = os.path.join(image_folder_path, image_name)\n",
    "    destination_path = os.path.join(output_folder_path, image_name)\n",
    "\n",
    "    # Check if the source image exists before copying\n",
    "    if os.path.exists(source_path):\n",
    "        # Copy the image to the new folder\n",
    "        shutil.copyfile(source_path, destination_path)\n",
    "    else:\n",
    "        print(f\"Warning: Image '{image_name}' not found in the source folder.\")\n",
    "\n",
    "print(f\"Selected images copied to: {output_folder_path}\")\n"
   ]
  },
  {
   "cell_type": "code",
   "execution_count": 106,
   "metadata": {},
   "outputs": [
    {
     "name": "stdout",
     "output_type": "stream",
     "text": [
      "Selected images copied to: C:/Users/Sahana/Downloads/datasets/QaTa-Covid19/Test_Folder/img\n"
     ]
    }
   ],
   "source": [
    "import pandas as pd\n",
    "import shutil\n",
    "import os\n",
    "import re\n",
    "\n",
    "\n",
    "\n",
    "# Specify the path to your Excel file and image folder\n",
    "excel_file_path = 'C:/Users/Sahana/Downloads/datasets/QaTa-Covid19/Test_Folder/Test_text.xlsx'\n",
    "image_folder_path = 'C:/Users/Sahana/Downloads/QaTa-COV19/QaTa-COV19-v2/Test Set/Images'\n",
    "\n",
    "# Read the Excel file into a DataFrame\n",
    "df = pd.read_excel(excel_file_path)\n",
    "\n",
    "# Create a new folder to store the selected images\n",
    "output_folder_path = 'C:/Users/Sahana/Downloads/datasets/QaTa-Covid19/Test_Folder/img'\n",
    "os.makedirs(output_folder_path, exist_ok=True)\n",
    "\n",
    "# Loop through each row in the DataFrame and copy the corresponding image to the new folder\n",
    "for index, row in df.iterrows():\n",
    "    image_name = row['Image']  # Assuming 'image_name' is the column with image names\n",
    "    new_name = image_name[5:]\n",
    "    # Construct the source and destination paths\n",
    "    source_path = os.path.join(image_folder_path, new_name)\n",
    "    destination_path = os.path.join(output_folder_path, new_name)\n",
    "\n",
    "    # Check if the source image exists before copying\n",
    "    if os.path.exists(source_path):\n",
    "        # Copy the image to the new folder\n",
    "        shutil.copyfile(source_path, destination_path)\n",
    "    else:\n",
    "        print(f\"Warning: Image '{new_name}' not found in the source folder.\")\n",
    "\n",
    "print(f\"Selected images copied to: {output_folder_path}\")\n"
   ]
  },
  {
   "cell_type": "code",
   "execution_count": null,
   "metadata": {},
   "outputs": [],
   "source": []
  }
 ],
 "metadata": {
  "kernelspec": {
   "display_name": "Python 3",
   "language": "python",
   "name": "python3"
  },
  "language_info": {
   "codemirror_mode": {
    "name": "ipython",
    "version": 3
   },
   "file_extension": ".py",
   "mimetype": "text/x-python",
   "name": "python",
   "nbconvert_exporter": "python",
   "pygments_lexer": "ipython3",
   "version": "3.7.6"
  }
 },
 "nbformat": 4,
 "nbformat_minor": 4
}
